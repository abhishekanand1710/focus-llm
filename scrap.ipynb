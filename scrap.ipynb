{
 "cells": [
  {
   "cell_type": "code",
   "execution_count": 1,
   "metadata": {},
   "outputs": [],
   "source": [
    "import pandas as pd\n",
    "import json"
   ]
  },
  {
   "cell_type": "code",
   "execution_count": 10,
   "metadata": {},
   "outputs": [
    {
     "name": "stdout",
     "output_type": "stream",
     "text": [
      "<class 'pandas.core.frame.DataFrame'>\n",
      "RangeIndex: 9248 entries, 0 to 9247\n",
      "Data columns (total 6 columns):\n",
      " #   Column    Non-Null Count  Dtype \n",
      "---  ------    --------------  ----- \n",
      " 0   question  9248 non-null   object\n",
      " 1   option1   9248 non-null   object\n",
      " 2   option2   9248 non-null   object\n",
      " 3   answer    9248 non-null   int64 \n",
      " 4   prompt    9248 non-null   object\n",
      " 5   id        9248 non-null   object\n",
      "dtypes: int64(1), object(5)\n",
      "memory usage: 433.6+ KB\n"
     ]
    }
   ],
   "source": [
    "arc_df = pd.read_csv('datasets/winogrande_train_with_prompt.csv')\n",
    "arc_df.info()"
   ]
  },
  {
   "cell_type": "code",
   "execution_count": 11,
   "metadata": {},
   "outputs": [],
   "source": [
    "with open('datasets/winogrande_train_gpt4_response.json', 'r') as f:\n",
    "    arc_json = json.loads(f.read())"
   ]
  },
  {
   "cell_type": "code",
   "execution_count": 12,
   "metadata": {},
   "outputs": [
    {
     "data": {
      "text/plain": [
       "1000"
      ]
     },
     "execution_count": 12,
     "metadata": {},
     "output_type": "execute_result"
    }
   ],
   "source": [
    "len(arc_json)"
   ]
  },
  {
   "cell_type": "code",
   "execution_count": 13,
   "metadata": {},
   "outputs": [],
   "source": [
    "def check_if_key_in_json(id):\n",
    "    return id in arc_json"
   ]
  },
  {
   "cell_type": "code",
   "execution_count": 14,
   "metadata": {},
   "outputs": [],
   "source": [
    "selected_rows = arc_df['id'].apply(lambda x: check_if_key_in_json(x))\n",
    "arc_df_mistral = arc_df[selected_rows]"
   ]
  },
  {
   "cell_type": "code",
   "execution_count": 15,
   "metadata": {},
   "outputs": [
    {
     "name": "stdout",
     "output_type": "stream",
     "text": [
      "<class 'pandas.core.frame.DataFrame'>\n",
      "Index: 1000 entries, 0 to 9245\n",
      "Data columns (total 6 columns):\n",
      " #   Column    Non-Null Count  Dtype \n",
      "---  ------    --------------  ----- \n",
      " 0   question  1000 non-null   object\n",
      " 1   option1   1000 non-null   object\n",
      " 2   option2   1000 non-null   object\n",
      " 3   answer    1000 non-null   int64 \n",
      " 4   prompt    1000 non-null   object\n",
      " 5   id        1000 non-null   object\n",
      "dtypes: int64(1), object(5)\n",
      "memory usage: 54.7+ KB\n"
     ]
    }
   ],
   "source": [
    "arc_df_mistral.info()"
   ]
  },
  {
   "cell_type": "code",
   "execution_count": 16,
   "metadata": {},
   "outputs": [],
   "source": [
    "arc_df_mistral.to_csv('datasets/mistral/winogrande_train_with_prompt.csv', index=False)"
   ]
  },
  {
   "cell_type": "code",
   "execution_count": null,
   "metadata": {},
   "outputs": [],
   "source": []
  },
  {
   "cell_type": "code",
   "execution_count": 16,
   "metadata": {},
   "outputs": [],
   "source": [
    "df1 = pd.read_csv('evaluation/results-sft-mistral/Test Pro v3 Response SFT v.csv')\n",
    "df2 = pd.read_csv('evaluation/results-sft-mistral/Test Pro v3 Response SFT v (1).csv')\n",
    "df3 = pd.read_csv('evaluation/results-sft-mistral/Test Pro V3 Response SFT V (2).csv')\n",
    "df4 = pd.read_csv('evaluation/results-sft-mistral/Test Pro V3 Response SFT V 2.csv')"
   ]
  },
  {
   "cell_type": "code",
   "execution_count": 17,
   "metadata": {},
   "outputs": [
    {
     "name": "stdout",
     "output_type": "stream",
     "text": [
      "100\n",
      "100\n",
      "100\n",
      "96\n"
     ]
    }
   ],
   "source": [
    "dfs = [df1, df2, df3, df4]\n",
    "\n",
    "for df in dfs:\n",
    "    print(len(df))"
   ]
  },
  {
   "cell_type": "code",
   "execution_count": 18,
   "metadata": {},
   "outputs": [
    {
     "data": {
      "text/html": [
       "<div>\n",
       "<style scoped>\n",
       "    .dataframe tbody tr th:only-of-type {\n",
       "        vertical-align: middle;\n",
       "    }\n",
       "\n",
       "    .dataframe tbody tr th {\n",
       "        vertical-align: top;\n",
       "    }\n",
       "\n",
       "    .dataframe thead th {\n",
       "        text-align: right;\n",
       "    }\n",
       "</style>\n",
       "<table border=\"1\" class=\"dataframe\">\n",
       "  <thead>\n",
       "    <tr style=\"text-align: right;\">\n",
       "      <th></th>\n",
       "      <th>id</th>\n",
       "      <th>text</th>\n",
       "      <th>label</th>\n",
       "      <th>question_token1</th>\n",
       "      <th>question1</th>\n",
       "      <th>question_token2</th>\n",
       "      <th>question2</th>\n",
       "      <th>options</th>\n",
       "      <th>concept_guided_prompt</th>\n",
       "      <th>complete_question</th>\n",
       "      <th>response</th>\n",
       "    </tr>\n",
       "  </thead>\n",
       "  <tbody>\n",
       "    <tr>\n",
       "      <th>0</th>\n",
       "      <td>301</td>\n",
       "      <td>The chief asked the editor to redo the documen...</td>\n",
       "      <td>chief</td>\n",
       "      <td>he</td>\n",
       "      <td>Who does 'he' refer to?</td>\n",
       "      <td>NaN</td>\n",
       "      <td>NaN</td>\n",
       "      <td>['chief', 'editor']</td>\n",
       "      <td>Question: - The chief asked the editor to redo...</td>\n",
       "      <td>The chief asked the editor to redo the documen...</td>\n",
       "      <td>[your concepts list]\\n{\\n  \"concepts\": [\\n    ...</td>\n",
       "    </tr>\n",
       "    <tr>\n",
       "      <th>1</th>\n",
       "      <td>302</td>\n",
       "      <td>The chief asked the editor to redo the documen...</td>\n",
       "      <td>editor</td>\n",
       "      <td>she</td>\n",
       "      <td>Who does 'she' refer to?</td>\n",
       "      <td>NaN</td>\n",
       "      <td>NaN</td>\n",
       "      <td>['chief', 'editor']</td>\n",
       "      <td>Question: - The chief asked the editor to redo...</td>\n",
       "      <td>The chief asked the editor to redo the documen...</td>\n",
       "      <td>[your concepts list]\\n{\\n  \"concepts\": [\\n    ...</td>\n",
       "    </tr>\n",
       "    <tr>\n",
       "      <th>2</th>\n",
       "      <td>303</td>\n",
       "      <td>The cook tried to avoid seeing the auditor bec...</td>\n",
       "      <td>cook</td>\n",
       "      <td>he</td>\n",
       "      <td>Who does 'he' refer to?</td>\n",
       "      <td>NaN</td>\n",
       "      <td>NaN</td>\n",
       "      <td>['cook', 'auditor']</td>\n",
       "      <td>Question: - The cook tried to avoid seeing the...</td>\n",
       "      <td>The cook tried to avoid seeing the auditor bec...</td>\n",
       "      <td>[your concepts list]\\n{\\n  \"concepts\": [\\n    ...</td>\n",
       "    </tr>\n",
       "    <tr>\n",
       "      <th>3</th>\n",
       "      <td>304</td>\n",
       "      <td>The cook tried to avoid seeing the auditor bec...</td>\n",
       "      <td>auditor</td>\n",
       "      <td>she</td>\n",
       "      <td>Who does 'she' refer to?</td>\n",
       "      <td>NaN</td>\n",
       "      <td>NaN</td>\n",
       "      <td>['auditor', 'cook']</td>\n",
       "      <td>Question: - The cook tried to avoid seeing the...</td>\n",
       "      <td>The cook tried to avoid seeing the auditor bec...</td>\n",
       "      <td>[your concepts list]\\n{\\n  \"concepts\": [\\n    ...</td>\n",
       "    </tr>\n",
       "    <tr>\n",
       "      <th>4</th>\n",
       "      <td>305</td>\n",
       "      <td>The salesperson tried to convince the designer...</td>\n",
       "      <td>salesperson</td>\n",
       "      <td>he</td>\n",
       "      <td>Who does 'he' refer to?</td>\n",
       "      <td>NaN</td>\n",
       "      <td>NaN</td>\n",
       "      <td>['salesperson', 'designer']</td>\n",
       "      <td>Question: - The salesperson tried to convince ...</td>\n",
       "      <td>The salesperson tried to convince the designer...</td>\n",
       "      <td>[your concepts list]\\n{\\n  \"concepts\": [\\n    ...</td>\n",
       "    </tr>\n",
       "  </tbody>\n",
       "</table>\n",
       "</div>"
      ],
      "text/plain": [
       "    id                                               text        label  \\\n",
       "0  301  The chief asked the editor to redo the documen...        chief   \n",
       "1  302  The chief asked the editor to redo the documen...       editor   \n",
       "2  303  The cook tried to avoid seeing the auditor bec...         cook   \n",
       "3  304  The cook tried to avoid seeing the auditor bec...      auditor   \n",
       "4  305  The salesperson tried to convince the designer...  salesperson   \n",
       "\n",
       "  question_token1                 question1 question_token2 question2  \\\n",
       "0              he   Who does 'he' refer to?             NaN       NaN   \n",
       "1             she  Who does 'she' refer to?             NaN       NaN   \n",
       "2              he   Who does 'he' refer to?             NaN       NaN   \n",
       "3             she  Who does 'she' refer to?             NaN       NaN   \n",
       "4              he   Who does 'he' refer to?             NaN       NaN   \n",
       "\n",
       "                       options  \\\n",
       "0          ['chief', 'editor']   \n",
       "1          ['chief', 'editor']   \n",
       "2          ['cook', 'auditor']   \n",
       "3          ['auditor', 'cook']   \n",
       "4  ['salesperson', 'designer']   \n",
       "\n",
       "                               concept_guided_prompt  \\\n",
       "0  Question: - The chief asked the editor to redo...   \n",
       "1  Question: - The chief asked the editor to redo...   \n",
       "2  Question: - The cook tried to avoid seeing the...   \n",
       "3  Question: - The cook tried to avoid seeing the...   \n",
       "4  Question: - The salesperson tried to convince ...   \n",
       "\n",
       "                                   complete_question  \\\n",
       "0  The chief asked the editor to redo the documen...   \n",
       "1  The chief asked the editor to redo the documen...   \n",
       "2  The cook tried to avoid seeing the auditor bec...   \n",
       "3  The cook tried to avoid seeing the auditor bec...   \n",
       "4  The salesperson tried to convince the designer...   \n",
       "\n",
       "                                            response  \n",
       "0  [your concepts list]\\n{\\n  \"concepts\": [\\n    ...  \n",
       "1  [your concepts list]\\n{\\n  \"concepts\": [\\n    ...  \n",
       "2  [your concepts list]\\n{\\n  \"concepts\": [\\n    ...  \n",
       "3  [your concepts list]\\n{\\n  \"concepts\": [\\n    ...  \n",
       "4  [your concepts list]\\n{\\n  \"concepts\": [\\n    ...  "
      ]
     },
     "execution_count": 18,
     "metadata": {},
     "output_type": "execute_result"
    }
   ],
   "source": [
    "df4.head()"
   ]
  },
  {
   "cell_type": "code",
   "execution_count": 19,
   "metadata": {},
   "outputs": [
    {
     "data": {
      "text/html": [
       "<div>\n",
       "<style scoped>\n",
       "    .dataframe tbody tr th:only-of-type {\n",
       "        vertical-align: middle;\n",
       "    }\n",
       "\n",
       "    .dataframe tbody tr th {\n",
       "        vertical-align: top;\n",
       "    }\n",
       "\n",
       "    .dataframe thead th {\n",
       "        text-align: right;\n",
       "    }\n",
       "</style>\n",
       "<table border=\"1\" class=\"dataframe\">\n",
       "  <thead>\n",
       "    <tr style=\"text-align: right;\">\n",
       "      <th></th>\n",
       "      <th>id</th>\n",
       "      <th>text</th>\n",
       "      <th>label</th>\n",
       "      <th>question_token1</th>\n",
       "      <th>question1</th>\n",
       "      <th>question_token2</th>\n",
       "      <th>question2</th>\n",
       "      <th>options</th>\n",
       "      <th>concept_guided_prompt</th>\n",
       "      <th>complete_question</th>\n",
       "      <th>response</th>\n",
       "    </tr>\n",
       "  </thead>\n",
       "  <tbody>\n",
       "    <tr>\n",
       "      <th>0</th>\n",
       "      <td>1</td>\n",
       "      <td>The janitor reprimanded the accountant because...</td>\n",
       "      <td>accountant</td>\n",
       "      <td>she</td>\n",
       "      <td>Who does 'she' refer to?</td>\n",
       "      <td>NaN</td>\n",
       "      <td>NaN</td>\n",
       "      <td>['janitor', 'accountant']</td>\n",
       "      <td>Question: - The janitor reprimanded the accoun...</td>\n",
       "      <td>The janitor reprimanded the accountant because...</td>\n",
       "      <td>[your concepts list]\\n{\\n  \"concepts\": [\\n    ...</td>\n",
       "    </tr>\n",
       "    <tr>\n",
       "      <th>1</th>\n",
       "      <td>2</td>\n",
       "      <td>The carpenter always ask the librarian for hel...</td>\n",
       "      <td>carpenter</td>\n",
       "      <td>he</td>\n",
       "      <td>Who does 'he' refer to?</td>\n",
       "      <td>NaN</td>\n",
       "      <td>NaN</td>\n",
       "      <td>['carpenter', 'librarian']</td>\n",
       "      <td>Question: - The carpenter always ask the libra...</td>\n",
       "      <td>The carpenter always ask the librarian for hel...</td>\n",
       "      <td>[your concepts list]\\n{\\n  \"concepts\": [\\n    ...</td>\n",
       "    </tr>\n",
       "    <tr>\n",
       "      <th>2</th>\n",
       "      <td>3</td>\n",
       "      <td>The carpenter always asks the librarian for he...</td>\n",
       "      <td>librarian</td>\n",
       "      <td>she</td>\n",
       "      <td>Who does 'she' refer to?</td>\n",
       "      <td>NaN</td>\n",
       "      <td>NaN</td>\n",
       "      <td>['librarian', 'carpenter']</td>\n",
       "      <td>Question: - The carpenter always asks the libr...</td>\n",
       "      <td>The carpenter always asks the librarian for he...</td>\n",
       "      <td>[your concepts list]\\n{\\n  \"concepts\": [\\n    ...</td>\n",
       "    </tr>\n",
       "    <tr>\n",
       "      <th>3</th>\n",
       "      <td>4</td>\n",
       "      <td>The physician wanted to meet the counselor bec...</td>\n",
       "      <td>physician</td>\n",
       "      <td>he</td>\n",
       "      <td>Who does 'he' refer to?</td>\n",
       "      <td>his</td>\n",
       "      <td>Who does 'his' refer to?</td>\n",
       "      <td>['physician', 'counselor']</td>\n",
       "      <td>Question: - The physician wanted to meet the c...</td>\n",
       "      <td>The physician wanted to meet the counselor bec...</td>\n",
       "      <td>[your concepts list]\\n{\\n  \"concepts\": [\\n    ...</td>\n",
       "    </tr>\n",
       "    <tr>\n",
       "      <th>4</th>\n",
       "      <td>5</td>\n",
       "      <td>The physician wanted to meet the counselor bec...</td>\n",
       "      <td>counselor</td>\n",
       "      <td>she</td>\n",
       "      <td>Who does 'she' refer to?</td>\n",
       "      <td>NaN</td>\n",
       "      <td>NaN</td>\n",
       "      <td>['counselor', 'physician']</td>\n",
       "      <td>Question: - The physician wanted to meet the c...</td>\n",
       "      <td>The physician wanted to meet the counselor bec...</td>\n",
       "      <td>[your concepts list]\\n{\\n  \"concepts\": [\\n    ...</td>\n",
       "    </tr>\n",
       "  </tbody>\n",
       "</table>\n",
       "</div>"
      ],
      "text/plain": [
       "   id                                               text       label  \\\n",
       "0   1  The janitor reprimanded the accountant because...  accountant   \n",
       "1   2  The carpenter always ask the librarian for hel...   carpenter   \n",
       "2   3  The carpenter always asks the librarian for he...   librarian   \n",
       "3   4  The physician wanted to meet the counselor bec...   physician   \n",
       "4   5  The physician wanted to meet the counselor bec...   counselor   \n",
       "\n",
       "  question_token1                 question1 question_token2  \\\n",
       "0             she  Who does 'she' refer to?             NaN   \n",
       "1              he   Who does 'he' refer to?             NaN   \n",
       "2             she  Who does 'she' refer to?             NaN   \n",
       "3              he   Who does 'he' refer to?             his   \n",
       "4             she  Who does 'she' refer to?             NaN   \n",
       "\n",
       "                  question2                     options  \\\n",
       "0                       NaN   ['janitor', 'accountant']   \n",
       "1                       NaN  ['carpenter', 'librarian']   \n",
       "2                       NaN  ['librarian', 'carpenter']   \n",
       "3  Who does 'his' refer to?  ['physician', 'counselor']   \n",
       "4                       NaN  ['counselor', 'physician']   \n",
       "\n",
       "                               concept_guided_prompt  \\\n",
       "0  Question: - The janitor reprimanded the accoun...   \n",
       "1  Question: - The carpenter always ask the libra...   \n",
       "2  Question: - The carpenter always asks the libr...   \n",
       "3  Question: - The physician wanted to meet the c...   \n",
       "4  Question: - The physician wanted to meet the c...   \n",
       "\n",
       "                                   complete_question  \\\n",
       "0  The janitor reprimanded the accountant because...   \n",
       "1  The carpenter always ask the librarian for hel...   \n",
       "2  The carpenter always asks the librarian for he...   \n",
       "3  The physician wanted to meet the counselor bec...   \n",
       "4  The physician wanted to meet the counselor bec...   \n",
       "\n",
       "                                            response  \n",
       "0  [your concepts list]\\n{\\n  \"concepts\": [\\n    ...  \n",
       "1  [your concepts list]\\n{\\n  \"concepts\": [\\n    ...  \n",
       "2  [your concepts list]\\n{\\n  \"concepts\": [\\n    ...  \n",
       "3  [your concepts list]\\n{\\n  \"concepts\": [\\n    ...  \n",
       "4  [your concepts list]\\n{\\n  \"concepts\": [\\n    ...  "
      ]
     },
     "execution_count": 19,
     "metadata": {},
     "output_type": "execute_result"
    }
   ],
   "source": [
    "pro_df = pd.concat(dfs)\n",
    "pro_df.head()"
   ]
  },
  {
   "cell_type": "code",
   "execution_count": 20,
   "metadata": {},
   "outputs": [
    {
     "data": {
      "text/plain": [
       "396"
      ]
     },
     "execution_count": 20,
     "metadata": {},
     "output_type": "execute_result"
    }
   ],
   "source": [
    "len(pro_df)"
   ]
  },
  {
   "cell_type": "code",
   "execution_count": 21,
   "metadata": {},
   "outputs": [],
   "source": [
    "pro_df.to_csv('evaluation/results-sft-mistral/pro_sft_results_v2.csv', index=False)"
   ]
  },
  {
   "cell_type": "code",
   "execution_count": null,
   "metadata": {},
   "outputs": [],
   "source": []
  }
 ],
 "metadata": {
  "kernelspec": {
   "display_name": "focus-llm",
   "language": "python",
   "name": "python3"
  },
  "language_info": {
   "codemirror_mode": {
    "name": "ipython",
    "version": 3
   },
   "file_extension": ".py",
   "mimetype": "text/x-python",
   "name": "python",
   "nbconvert_exporter": "python",
   "pygments_lexer": "ipython3",
   "version": "3.12.2"
  }
 },
 "nbformat": 4,
 "nbformat_minor": 2
}
