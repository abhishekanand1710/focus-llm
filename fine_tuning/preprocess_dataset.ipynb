{
 "cells": [
  {
   "cell_type": "code",
   "execution_count": 9,
   "metadata": {},
   "outputs": [],
   "source": [
    "import pandas as pd\n",
    "import json\n",
    "from ast import literal_eval"
   ]
  },
  {
   "cell_type": "markdown",
   "metadata": {},
   "source": [
    "# Clean incorrect responses from GPT4"
   ]
  },
  {
   "cell_type": "code",
   "execution_count": 39,
   "metadata": {},
   "outputs": [
    {
     "data": {
      "text/plain": [
       "1000"
      ]
     },
     "execution_count": 39,
     "metadata": {},
     "output_type": "execute_result"
    }
   ],
   "source": [
    "with open('../datasets/gpt4/arc_challenge_train_gpt4_response_parsed.json', 'r') as f:\n",
    "    arc_parsed_data = json.load(f)\n",
    "len(arc_parsed_data)"
   ]
  },
  {
   "cell_type": "code",
   "execution_count": 40,
   "metadata": {},
   "outputs": [
    {
     "data": {
      "text/plain": [
       "1000"
      ]
     },
     "execution_count": 40,
     "metadata": {},
     "output_type": "execute_result"
    }
   ],
   "source": [
    "with open('../datasets/gpt4/winogrande_train_gpt4_response_parsed.json', 'r') as f:\n",
    "    wino_parsed_data = json.load(f)\n",
    "len(wino_parsed_data)"
   ]
  },
  {
   "cell_type": "code",
   "execution_count": 7,
   "metadata": {},
   "outputs": [
    {
     "data": {
      "text/html": [
       "<div>\n",
       "<style scoped>\n",
       "    .dataframe tbody tr th:only-of-type {\n",
       "        vertical-align: middle;\n",
       "    }\n",
       "\n",
       "    .dataframe tbody tr th {\n",
       "        vertical-align: top;\n",
       "    }\n",
       "\n",
       "    .dataframe thead th {\n",
       "        text-align: right;\n",
       "    }\n",
       "</style>\n",
       "<table border=\"1\" class=\"dataframe\">\n",
       "  <thead>\n",
       "    <tr style=\"text-align: right;\">\n",
       "      <th></th>\n",
       "      <th>id</th>\n",
       "      <th>question</th>\n",
       "      <th>choices</th>\n",
       "      <th>answerKey</th>\n",
       "      <th>options</th>\n",
       "      <th>prompt</th>\n",
       "    </tr>\n",
       "  </thead>\n",
       "  <tbody>\n",
       "    <tr>\n",
       "      <th>0</th>\n",
       "      <td>Mercury_SC_415702</td>\n",
       "      <td>George wants to warm his hands quickly by rubb...</td>\n",
       "      <td>{'text': array(['dry palms', 'wet palms', 'pal...</td>\n",
       "      <td>A</td>\n",
       "      <td>['dry palms', 'wet palms', 'palms covered with...</td>\n",
       "      <td>Question: - George wants to warm his hands qui...</td>\n",
       "    </tr>\n",
       "    <tr>\n",
       "      <th>1</th>\n",
       "      <td>MCAS_2009_5_6516</td>\n",
       "      <td>Which of the following statements best explain...</td>\n",
       "      <td>{'text': array(['The refrigerator door is smoo...</td>\n",
       "      <td>B</td>\n",
       "      <td>['The refrigerator door is smooth.', 'The refr...</td>\n",
       "      <td>Question: - Which of the following statements ...</td>\n",
       "    </tr>\n",
       "    <tr>\n",
       "      <th>2</th>\n",
       "      <td>Mercury_7233695</td>\n",
       "      <td>A fold observed in layers of sedimentary rock ...</td>\n",
       "      <td>{'text': array(['cooling of flowing magma.', '...</td>\n",
       "      <td>B</td>\n",
       "      <td>['cooling of flowing magma.', 'converging of c...</td>\n",
       "      <td>Question: - A fold observed in layers of sedim...</td>\n",
       "    </tr>\n",
       "    <tr>\n",
       "      <th>3</th>\n",
       "      <td>Mercury_7041615</td>\n",
       "      <td>Which of these do scientists offer as the most...</td>\n",
       "      <td>{'text': array(['worldwide disease', 'global m...</td>\n",
       "      <td>D</td>\n",
       "      <td>['worldwide disease', 'global mountain buildin...</td>\n",
       "      <td>Question: - Which of these do scientists offer...</td>\n",
       "    </tr>\n",
       "    <tr>\n",
       "      <th>4</th>\n",
       "      <td>Mercury_7041860</td>\n",
       "      <td>A boat is acted on by a river current flowing ...</td>\n",
       "      <td>{'text': array(['west', 'east', 'north', 'sout...</td>\n",
       "      <td>B</td>\n",
       "      <td>['west', 'east', 'north', 'south']</td>\n",
       "      <td>Question: - A boat is acted on by a river curr...</td>\n",
       "    </tr>\n",
       "  </tbody>\n",
       "</table>\n",
       "</div>"
      ],
      "text/plain": [
       "                  id                                           question  \\\n",
       "0  Mercury_SC_415702  George wants to warm his hands quickly by rubb...   \n",
       "1   MCAS_2009_5_6516  Which of the following statements best explain...   \n",
       "2    Mercury_7233695  A fold observed in layers of sedimentary rock ...   \n",
       "3    Mercury_7041615  Which of these do scientists offer as the most...   \n",
       "4    Mercury_7041860  A boat is acted on by a river current flowing ...   \n",
       "\n",
       "                                             choices answerKey  \\\n",
       "0  {'text': array(['dry palms', 'wet palms', 'pal...         A   \n",
       "1  {'text': array(['The refrigerator door is smoo...         B   \n",
       "2  {'text': array(['cooling of flowing magma.', '...         B   \n",
       "3  {'text': array(['worldwide disease', 'global m...         D   \n",
       "4  {'text': array(['west', 'east', 'north', 'sout...         B   \n",
       "\n",
       "                                             options  \\\n",
       "0  ['dry palms', 'wet palms', 'palms covered with...   \n",
       "1  ['The refrigerator door is smooth.', 'The refr...   \n",
       "2  ['cooling of flowing magma.', 'converging of c...   \n",
       "3  ['worldwide disease', 'global mountain buildin...   \n",
       "4                 ['west', 'east', 'north', 'south']   \n",
       "\n",
       "                                              prompt  \n",
       "0  Question: - George wants to warm his hands qui...  \n",
       "1  Question: - Which of the following statements ...  \n",
       "2  Question: - A fold observed in layers of sedim...  \n",
       "3  Question: - Which of these do scientists offer...  \n",
       "4  Question: - A boat is acted on by a river curr...  "
      ]
     },
     "execution_count": 7,
     "metadata": {},
     "output_type": "execute_result"
    }
   ],
   "source": [
    "arc_df = pd.read_csv('../datasets/arc_challenge_train_with_prompt.csv')\n",
    "arc_df.head()"
   ]
  },
  {
   "cell_type": "code",
   "execution_count": 8,
   "metadata": {},
   "outputs": [
    {
     "data": {
      "text/html": [
       "<div>\n",
       "<style scoped>\n",
       "    .dataframe tbody tr th:only-of-type {\n",
       "        vertical-align: middle;\n",
       "    }\n",
       "\n",
       "    .dataframe tbody tr th {\n",
       "        vertical-align: top;\n",
       "    }\n",
       "\n",
       "    .dataframe thead th {\n",
       "        text-align: right;\n",
       "    }\n",
       "</style>\n",
       "<table border=\"1\" class=\"dataframe\">\n",
       "  <thead>\n",
       "    <tr style=\"text-align: right;\">\n",
       "      <th></th>\n",
       "      <th>question</th>\n",
       "      <th>option1</th>\n",
       "      <th>option2</th>\n",
       "      <th>answer</th>\n",
       "      <th>prompt</th>\n",
       "      <th>id</th>\n",
       "    </tr>\n",
       "  </thead>\n",
       "  <tbody>\n",
       "    <tr>\n",
       "      <th>0</th>\n",
       "      <td>John moved the couch from the garage to the ba...</td>\n",
       "      <td>garage</td>\n",
       "      <td>backyard</td>\n",
       "      <td>1</td>\n",
       "      <td>Question: - John moved the couch from the gara...</td>\n",
       "      <td>GO3wkLp9TC</td>\n",
       "    </tr>\n",
       "    <tr>\n",
       "      <th>1</th>\n",
       "      <td>The doctor diagnosed Justin with bipolar and R...</td>\n",
       "      <td>Justin</td>\n",
       "      <td>Robert</td>\n",
       "      <td>2</td>\n",
       "      <td>Question: - The doctor diagnosed Justin with b...</td>\n",
       "      <td>IPQZOkoLLz</td>\n",
       "    </tr>\n",
       "    <tr>\n",
       "      <th>2</th>\n",
       "      <td>Dennis drew up a business proposal to present ...</td>\n",
       "      <td>Dennis</td>\n",
       "      <td>Logan</td>\n",
       "      <td>1</td>\n",
       "      <td>Question: - Dennis drew up a business proposal...</td>\n",
       "      <td>W85KDUn8gA</td>\n",
       "    </tr>\n",
       "    <tr>\n",
       "      <th>3</th>\n",
       "      <td>Felicia unexpectedly made fried eggs for break...</td>\n",
       "      <td>Felicia</td>\n",
       "      <td>Katrina</td>\n",
       "      <td>2</td>\n",
       "      <td>Question: - Felicia unexpectedly made fried eg...</td>\n",
       "      <td>UIUCGI68OY</td>\n",
       "    </tr>\n",
       "    <tr>\n",
       "      <th>4</th>\n",
       "      <td>My shampoo did not lather easily on my Afro ha...</td>\n",
       "      <td>shampoo</td>\n",
       "      <td>hair</td>\n",
       "      <td>2</td>\n",
       "      <td>Question: - My shampoo did not lather easily o...</td>\n",
       "      <td>WFAUCgvz91</td>\n",
       "    </tr>\n",
       "  </tbody>\n",
       "</table>\n",
       "</div>"
      ],
      "text/plain": [
       "                                            question  option1   option2  \\\n",
       "0  John moved the couch from the garage to the ba...   garage  backyard   \n",
       "1  The doctor diagnosed Justin with bipolar and R...   Justin    Robert   \n",
       "2  Dennis drew up a business proposal to present ...   Dennis     Logan   \n",
       "3  Felicia unexpectedly made fried eggs for break...  Felicia   Katrina   \n",
       "4  My shampoo did not lather easily on my Afro ha...  shampoo      hair   \n",
       "\n",
       "   answer                                             prompt          id  \n",
       "0       1  Question: - John moved the couch from the gara...  GO3wkLp9TC  \n",
       "1       2  Question: - The doctor diagnosed Justin with b...  IPQZOkoLLz  \n",
       "2       1  Question: - Dennis drew up a business proposal...  W85KDUn8gA  \n",
       "3       2  Question: - Felicia unexpectedly made fried eg...  UIUCGI68OY  \n",
       "4       2  Question: - My shampoo did not lather easily o...  WFAUCgvz91  "
      ]
     },
     "execution_count": 8,
     "metadata": {},
     "output_type": "execute_result"
    }
   ],
   "source": [
    "wino_df = pd.read_csv('../datasets/winogrande_train_with_prompt.csv')\n",
    "wino_df.head()"
   ]
  },
  {
   "cell_type": "markdown",
   "metadata": {},
   "source": [
    "## Extracting answer"
   ]
  },
  {
   "cell_type": "code",
   "execution_count": 10,
   "metadata": {},
   "outputs": [],
   "source": [
    "key_to_answer = {'A' : 0, 'B' : 1, 'C' : 2, 'D' : 3, 'E': 4}"
   ]
  },
  {
   "cell_type": "code",
   "execution_count": 19,
   "metadata": {},
   "outputs": [],
   "source": [
    "def get_answer_arc(row):\n",
    "    question = row['question']\n",
    "    options = row['options']\n",
    "    list_options = literal_eval(options)\n",
    "    try:\n",
    "        answer = list_options[key_to_answer[row['answerKey']]]\n",
    "    except:\n",
    "        answer = list_options[int(row['answerKey'])-1]\n",
    "    return answer.strip().lower()"
   ]
  },
  {
   "cell_type": "code",
   "execution_count": 20,
   "metadata": {},
   "outputs": [
    {
     "data": {
      "text/html": [
       "<div>\n",
       "<style scoped>\n",
       "    .dataframe tbody tr th:only-of-type {\n",
       "        vertical-align: middle;\n",
       "    }\n",
       "\n",
       "    .dataframe tbody tr th {\n",
       "        vertical-align: top;\n",
       "    }\n",
       "\n",
       "    .dataframe thead th {\n",
       "        text-align: right;\n",
       "    }\n",
       "</style>\n",
       "<table border=\"1\" class=\"dataframe\">\n",
       "  <thead>\n",
       "    <tr style=\"text-align: right;\">\n",
       "      <th></th>\n",
       "      <th>id</th>\n",
       "      <th>question</th>\n",
       "      <th>choices</th>\n",
       "      <th>answerKey</th>\n",
       "      <th>options</th>\n",
       "      <th>prompt</th>\n",
       "      <th>answer_text</th>\n",
       "    </tr>\n",
       "  </thead>\n",
       "  <tbody>\n",
       "    <tr>\n",
       "      <th>0</th>\n",
       "      <td>Mercury_SC_415702</td>\n",
       "      <td>George wants to warm his hands quickly by rubb...</td>\n",
       "      <td>{'text': array(['dry palms', 'wet palms', 'pal...</td>\n",
       "      <td>A</td>\n",
       "      <td>['dry palms', 'wet palms', 'palms covered with...</td>\n",
       "      <td>Question: - George wants to warm his hands qui...</td>\n",
       "      <td>dry palms</td>\n",
       "    </tr>\n",
       "    <tr>\n",
       "      <th>1</th>\n",
       "      <td>MCAS_2009_5_6516</td>\n",
       "      <td>Which of the following statements best explain...</td>\n",
       "      <td>{'text': array(['The refrigerator door is smoo...</td>\n",
       "      <td>B</td>\n",
       "      <td>['The refrigerator door is smooth.', 'The refr...</td>\n",
       "      <td>Question: - Which of the following statements ...</td>\n",
       "      <td>the refrigerator door contains iron.</td>\n",
       "    </tr>\n",
       "    <tr>\n",
       "      <th>2</th>\n",
       "      <td>Mercury_7233695</td>\n",
       "      <td>A fold observed in layers of sedimentary rock ...</td>\n",
       "      <td>{'text': array(['cooling of flowing magma.', '...</td>\n",
       "      <td>B</td>\n",
       "      <td>['cooling of flowing magma.', 'converging of c...</td>\n",
       "      <td>Question: - A fold observed in layers of sedim...</td>\n",
       "      <td>converging of crustal plates.</td>\n",
       "    </tr>\n",
       "    <tr>\n",
       "      <th>3</th>\n",
       "      <td>Mercury_7041615</td>\n",
       "      <td>Which of these do scientists offer as the most...</td>\n",
       "      <td>{'text': array(['worldwide disease', 'global m...</td>\n",
       "      <td>D</td>\n",
       "      <td>['worldwide disease', 'global mountain buildin...</td>\n",
       "      <td>Question: - Which of these do scientists offer...</td>\n",
       "      <td>impact of an asteroid created dust that blocke...</td>\n",
       "    </tr>\n",
       "    <tr>\n",
       "      <th>4</th>\n",
       "      <td>Mercury_7041860</td>\n",
       "      <td>A boat is acted on by a river current flowing ...</td>\n",
       "      <td>{'text': array(['west', 'east', 'north', 'sout...</td>\n",
       "      <td>B</td>\n",
       "      <td>['west', 'east', 'north', 'south']</td>\n",
       "      <td>Question: - A boat is acted on by a river curr...</td>\n",
       "      <td>east</td>\n",
       "    </tr>\n",
       "  </tbody>\n",
       "</table>\n",
       "</div>"
      ],
      "text/plain": [
       "                  id                                           question  \\\n",
       "0  Mercury_SC_415702  George wants to warm his hands quickly by rubb...   \n",
       "1   MCAS_2009_5_6516  Which of the following statements best explain...   \n",
       "2    Mercury_7233695  A fold observed in layers of sedimentary rock ...   \n",
       "3    Mercury_7041615  Which of these do scientists offer as the most...   \n",
       "4    Mercury_7041860  A boat is acted on by a river current flowing ...   \n",
       "\n",
       "                                             choices answerKey  \\\n",
       "0  {'text': array(['dry palms', 'wet palms', 'pal...         A   \n",
       "1  {'text': array(['The refrigerator door is smoo...         B   \n",
       "2  {'text': array(['cooling of flowing magma.', '...         B   \n",
       "3  {'text': array(['worldwide disease', 'global m...         D   \n",
       "4  {'text': array(['west', 'east', 'north', 'sout...         B   \n",
       "\n",
       "                                             options  \\\n",
       "0  ['dry palms', 'wet palms', 'palms covered with...   \n",
       "1  ['The refrigerator door is smooth.', 'The refr...   \n",
       "2  ['cooling of flowing magma.', 'converging of c...   \n",
       "3  ['worldwide disease', 'global mountain buildin...   \n",
       "4                 ['west', 'east', 'north', 'south']   \n",
       "\n",
       "                                              prompt  \\\n",
       "0  Question: - George wants to warm his hands qui...   \n",
       "1  Question: - Which of the following statements ...   \n",
       "2  Question: - A fold observed in layers of sedim...   \n",
       "3  Question: - Which of these do scientists offer...   \n",
       "4  Question: - A boat is acted on by a river curr...   \n",
       "\n",
       "                                         answer_text  \n",
       "0                                          dry palms  \n",
       "1               the refrigerator door contains iron.  \n",
       "2                      converging of crustal plates.  \n",
       "3  impact of an asteroid created dust that blocke...  \n",
       "4                                               east  "
      ]
     },
     "execution_count": 20,
     "metadata": {},
     "output_type": "execute_result"
    }
   ],
   "source": [
    "arc_df['answer_text'] = arc_df.apply(lambda row: get_answer_arc(row), axis=1)\n",
    "arc_df.head()"
   ]
  },
  {
   "cell_type": "code",
   "execution_count": 22,
   "metadata": {},
   "outputs": [],
   "source": [
    "def get_answer_wino(row):\n",
    "    answer = row['option1']\n",
    "    if row['answer'] == 2:\n",
    "        answer = row['option2']\n",
    "    return answer.strip().lower()"
   ]
  },
  {
   "cell_type": "code",
   "execution_count": 23,
   "metadata": {},
   "outputs": [
    {
     "data": {
      "text/html": [
       "<div>\n",
       "<style scoped>\n",
       "    .dataframe tbody tr th:only-of-type {\n",
       "        vertical-align: middle;\n",
       "    }\n",
       "\n",
       "    .dataframe tbody tr th {\n",
       "        vertical-align: top;\n",
       "    }\n",
       "\n",
       "    .dataframe thead th {\n",
       "        text-align: right;\n",
       "    }\n",
       "</style>\n",
       "<table border=\"1\" class=\"dataframe\">\n",
       "  <thead>\n",
       "    <tr style=\"text-align: right;\">\n",
       "      <th></th>\n",
       "      <th>question</th>\n",
       "      <th>option1</th>\n",
       "      <th>option2</th>\n",
       "      <th>answer</th>\n",
       "      <th>prompt</th>\n",
       "      <th>id</th>\n",
       "      <th>answer_text</th>\n",
       "    </tr>\n",
       "  </thead>\n",
       "  <tbody>\n",
       "    <tr>\n",
       "      <th>0</th>\n",
       "      <td>John moved the couch from the garage to the ba...</td>\n",
       "      <td>garage</td>\n",
       "      <td>backyard</td>\n",
       "      <td>1</td>\n",
       "      <td>Question: - John moved the couch from the gara...</td>\n",
       "      <td>GO3wkLp9TC</td>\n",
       "      <td>garage</td>\n",
       "    </tr>\n",
       "    <tr>\n",
       "      <th>1</th>\n",
       "      <td>The doctor diagnosed Justin with bipolar and R...</td>\n",
       "      <td>Justin</td>\n",
       "      <td>Robert</td>\n",
       "      <td>2</td>\n",
       "      <td>Question: - The doctor diagnosed Justin with b...</td>\n",
       "      <td>IPQZOkoLLz</td>\n",
       "      <td>robert</td>\n",
       "    </tr>\n",
       "    <tr>\n",
       "      <th>2</th>\n",
       "      <td>Dennis drew up a business proposal to present ...</td>\n",
       "      <td>Dennis</td>\n",
       "      <td>Logan</td>\n",
       "      <td>1</td>\n",
       "      <td>Question: - Dennis drew up a business proposal...</td>\n",
       "      <td>W85KDUn8gA</td>\n",
       "      <td>dennis</td>\n",
       "    </tr>\n",
       "    <tr>\n",
       "      <th>3</th>\n",
       "      <td>Felicia unexpectedly made fried eggs for break...</td>\n",
       "      <td>Felicia</td>\n",
       "      <td>Katrina</td>\n",
       "      <td>2</td>\n",
       "      <td>Question: - Felicia unexpectedly made fried eg...</td>\n",
       "      <td>UIUCGI68OY</td>\n",
       "      <td>katrina</td>\n",
       "    </tr>\n",
       "    <tr>\n",
       "      <th>4</th>\n",
       "      <td>My shampoo did not lather easily on my Afro ha...</td>\n",
       "      <td>shampoo</td>\n",
       "      <td>hair</td>\n",
       "      <td>2</td>\n",
       "      <td>Question: - My shampoo did not lather easily o...</td>\n",
       "      <td>WFAUCgvz91</td>\n",
       "      <td>hair</td>\n",
       "    </tr>\n",
       "  </tbody>\n",
       "</table>\n",
       "</div>"
      ],
      "text/plain": [
       "                                            question  option1   option2  \\\n",
       "0  John moved the couch from the garage to the ba...   garage  backyard   \n",
       "1  The doctor diagnosed Justin with bipolar and R...   Justin    Robert   \n",
       "2  Dennis drew up a business proposal to present ...   Dennis     Logan   \n",
       "3  Felicia unexpectedly made fried eggs for break...  Felicia   Katrina   \n",
       "4  My shampoo did not lather easily on my Afro ha...  shampoo      hair   \n",
       "\n",
       "   answer                                             prompt          id  \\\n",
       "0       1  Question: - John moved the couch from the gara...  GO3wkLp9TC   \n",
       "1       2  Question: - The doctor diagnosed Justin with b...  IPQZOkoLLz   \n",
       "2       1  Question: - Dennis drew up a business proposal...  W85KDUn8gA   \n",
       "3       2  Question: - Felicia unexpectedly made fried eg...  UIUCGI68OY   \n",
       "4       2  Question: - My shampoo did not lather easily o...  WFAUCgvz91   \n",
       "\n",
       "  answer_text  \n",
       "0      garage  \n",
       "1      robert  \n",
       "2      dennis  \n",
       "3     katrina  \n",
       "4        hair  "
      ]
     },
     "execution_count": 23,
     "metadata": {},
     "output_type": "execute_result"
    }
   ],
   "source": [
    "wino_df['answer_text'] = wino_df.apply(lambda row: get_answer_wino(row), axis=1)\n",
    "wino_df.head()"
   ]
  },
  {
   "cell_type": "markdown",
   "metadata": {},
   "source": [
    "## Removing rows with incorrect answer"
   ]
  },
  {
   "cell_type": "code",
   "execution_count": 45,
   "metadata": {},
   "outputs": [],
   "source": [
    "def check_answer(id_, answer_text, dataset='arc'):\n",
    "    if dataset == 'arc':\n",
    "        parsed_data = arc_parsed_data\n",
    "    else:\n",
    "        parsed_data = wino_parsed_data\n",
    "    if id_ not in parsed_data:\n",
    "        return False\n",
    "    data = parsed_data[id_]\n",
    "    # print(id_)\n",
    "    model_answer = data['parsed_response']['final_answer']['answer'].strip().lower()\n",
    "    if model_answer == answer_text:\n",
    "        return True\n",
    "    return False"
   ]
  },
  {
   "cell_type": "code",
   "execution_count": 46,
   "metadata": {},
   "outputs": [
    {
     "data": {
      "text/plain": [
       "1119"
      ]
     },
     "execution_count": 46,
     "metadata": {},
     "output_type": "execute_result"
    }
   ],
   "source": [
    "len(arc_df)"
   ]
  },
  {
   "cell_type": "code",
   "execution_count": 52,
   "metadata": {},
   "outputs": [],
   "source": [
    "wrong_answer_filter = arc_df.apply(lambda row: check_answer(row.id, row.answer_text), axis=1)\n",
    "arc_df_cleaned = arc_df[wrong_answer_filter]"
   ]
  },
  {
   "cell_type": "code",
   "execution_count": 53,
   "metadata": {},
   "outputs": [],
   "source": [
    "wrong_answer_filter = wino_df.apply(lambda row: check_answer(row.id, row.answer_text, dataset='wino'), axis=1)\n",
    "wino_df_cleaned = wino_df[wrong_answer_filter]"
   ]
  },
  {
   "cell_type": "code",
   "execution_count": 54,
   "metadata": {},
   "outputs": [
    {
     "data": {
      "text/plain": [
       "(940, 807)"
      ]
     },
     "execution_count": 54,
     "metadata": {},
     "output_type": "execute_result"
    }
   ],
   "source": [
    "len(arc_df_cleaned), len(wino_df_cleaned)"
   ]
  },
  {
   "cell_type": "code",
   "execution_count": null,
   "metadata": {},
   "outputs": [],
   "source": []
  }
 ],
 "metadata": {
  "kernelspec": {
   "display_name": "focus-llm",
   "language": "python",
   "name": "python3"
  },
  "language_info": {
   "codemirror_mode": {
    "name": "ipython",
    "version": 3
   },
   "file_extension": ".py",
   "mimetype": "text/x-python",
   "name": "python",
   "nbconvert_exporter": "python",
   "pygments_lexer": "ipython3",
   "version": "3.12.2"
  }
 },
 "nbformat": 4,
 "nbformat_minor": 2
}
