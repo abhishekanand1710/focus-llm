{
 "cells": [
  {
   "cell_type": "code",
   "execution_count": 33,
   "metadata": {},
   "outputs": [],
   "source": [
    "import json\n",
    "\n",
    "from openai_service import get_chat_completion\n",
    "from prompts import *\n",
    "import pandas as pd\n",
    "import json\n",
    "import os\n",
    "from tqdm.auto import tqdm\n",
    "tqdm.pandas()"
   ]
  },
  {
   "cell_type": "markdown",
   "metadata": {},
   "source": [
    "# ARC"
   ]
  },
  {
   "cell_type": "code",
   "execution_count": 23,
   "metadata": {},
   "outputs": [
    {
     "data": {
      "text/html": [
       "<div>\n",
       "<style scoped>\n",
       "    .dataframe tbody tr th:only-of-type {\n",
       "        vertical-align: middle;\n",
       "    }\n",
       "\n",
       "    .dataframe tbody tr th {\n",
       "        vertical-align: top;\n",
       "    }\n",
       "\n",
       "    .dataframe thead th {\n",
       "        text-align: right;\n",
       "    }\n",
       "</style>\n",
       "<table border=\"1\" class=\"dataframe\">\n",
       "  <thead>\n",
       "    <tr style=\"text-align: right;\">\n",
       "      <th></th>\n",
       "      <th>id</th>\n",
       "      <th>question</th>\n",
       "      <th>choices</th>\n",
       "      <th>answerKey</th>\n",
       "      <th>options</th>\n",
       "      <th>prompt</th>\n",
       "    </tr>\n",
       "  </thead>\n",
       "  <tbody>\n",
       "    <tr>\n",
       "      <th>0</th>\n",
       "      <td>Mercury_SC_415702</td>\n",
       "      <td>George wants to warm his hands quickly by rubb...</td>\n",
       "      <td>{'text': array(['dry palms', 'wet palms', 'pal...</td>\n",
       "      <td>A</td>\n",
       "      <td>['dry palms', 'wet palms', 'palms covered with...</td>\n",
       "      <td>Question: - George wants to warm his hands qui...</td>\n",
       "    </tr>\n",
       "    <tr>\n",
       "      <th>1</th>\n",
       "      <td>MCAS_2009_5_6516</td>\n",
       "      <td>Which of the following statements best explain...</td>\n",
       "      <td>{'text': array(['The refrigerator door is smoo...</td>\n",
       "      <td>B</td>\n",
       "      <td>['The refrigerator door is smooth.', 'The refr...</td>\n",
       "      <td>Question: - Which of the following statements ...</td>\n",
       "    </tr>\n",
       "    <tr>\n",
       "      <th>2</th>\n",
       "      <td>Mercury_7233695</td>\n",
       "      <td>A fold observed in layers of sedimentary rock ...</td>\n",
       "      <td>{'text': array(['cooling of flowing magma.', '...</td>\n",
       "      <td>B</td>\n",
       "      <td>['cooling of flowing magma.', 'converging of c...</td>\n",
       "      <td>Question: - A fold observed in layers of sedim...</td>\n",
       "    </tr>\n",
       "    <tr>\n",
       "      <th>3</th>\n",
       "      <td>Mercury_7041615</td>\n",
       "      <td>Which of these do scientists offer as the most...</td>\n",
       "      <td>{'text': array(['worldwide disease', 'global m...</td>\n",
       "      <td>D</td>\n",
       "      <td>['worldwide disease', 'global mountain buildin...</td>\n",
       "      <td>Question: - Which of these do scientists offer...</td>\n",
       "    </tr>\n",
       "    <tr>\n",
       "      <th>4</th>\n",
       "      <td>Mercury_7041860</td>\n",
       "      <td>A boat is acted on by a river current flowing ...</td>\n",
       "      <td>{'text': array(['west', 'east', 'north', 'sout...</td>\n",
       "      <td>B</td>\n",
       "      <td>['west', 'east', 'north', 'south']</td>\n",
       "      <td>Question: - A boat is acted on by a river curr...</td>\n",
       "    </tr>\n",
       "  </tbody>\n",
       "</table>\n",
       "</div>"
      ],
      "text/plain": [
       "                  id                                           question  \\\n",
       "0  Mercury_SC_415702  George wants to warm his hands quickly by rubb...   \n",
       "1   MCAS_2009_5_6516  Which of the following statements best explain...   \n",
       "2    Mercury_7233695  A fold observed in layers of sedimentary rock ...   \n",
       "3    Mercury_7041615  Which of these do scientists offer as the most...   \n",
       "4    Mercury_7041860  A boat is acted on by a river current flowing ...   \n",
       "\n",
       "                                             choices answerKey  \\\n",
       "0  {'text': array(['dry palms', 'wet palms', 'pal...         A   \n",
       "1  {'text': array(['The refrigerator door is smoo...         B   \n",
       "2  {'text': array(['cooling of flowing magma.', '...         B   \n",
       "3  {'text': array(['worldwide disease', 'global m...         D   \n",
       "4  {'text': array(['west', 'east', 'north', 'sout...         B   \n",
       "\n",
       "                                             options  \\\n",
       "0  ['dry palms', 'wet palms', 'palms covered with...   \n",
       "1  ['The refrigerator door is smooth.', 'The refr...   \n",
       "2  ['cooling of flowing magma.', 'converging of c...   \n",
       "3  ['worldwide disease', 'global mountain buildin...   \n",
       "4                 ['west', 'east', 'north', 'south']   \n",
       "\n",
       "                                              prompt  \n",
       "0  Question: - George wants to warm his hands qui...  \n",
       "1  Question: - Which of the following statements ...  \n",
       "2  Question: - A fold observed in layers of sedim...  \n",
       "3  Question: - Which of these do scientists offer...  \n",
       "4  Question: - A boat is acted on by a river curr...  "
      ]
     },
     "execution_count": 23,
     "metadata": {},
     "output_type": "execute_result"
    }
   ],
   "source": [
    "arc_df = pd.read_csv('datasets/arc_challenge_train_with_prompt.csv')\n",
    "arc_df.head()"
   ]
  },
  {
   "cell_type": "code",
   "execution_count": 24,
   "metadata": {},
   "outputs": [
    {
     "data": {
      "text/plain": [
       "(1119, 1119)"
      ]
     },
     "execution_count": 24,
     "metadata": {},
     "output_type": "execute_result"
    }
   ],
   "source": [
    "len(arc_df), len(arc_df['id'].unique())"
   ]
  },
  {
   "cell_type": "code",
   "execution_count": 129,
   "metadata": {},
   "outputs": [],
   "source": [
    "PROCESSED_DATA_PATH = \"./datasets/arc_challenge_train_gpt4_response.json\""
   ]
  },
  {
   "cell_type": "code",
   "execution_count": 130,
   "metadata": {},
   "outputs": [],
   "source": [
    "processed_data = {}"
   ]
  },
  {
   "cell_type": "code",
   "execution_count": 131,
   "metadata": {},
   "outputs": [],
   "source": [
    "if os.path.exists(PROCESSED_DATA_PATH):\n",
    "    with open(PROCESSED_DATA_PATH, 'r') as file:\n",
    "        processed_data = json.load(file)"
   ]
  },
  {
   "cell_type": "code",
   "execution_count": 132,
   "metadata": {},
   "outputs": [
    {
     "data": {
      "text/plain": [
       "500"
      ]
     },
     "execution_count": 132,
     "metadata": {},
     "output_type": "execute_result"
    }
   ],
   "source": [
    "len(processed_data)"
   ]
  },
  {
   "cell_type": "code",
   "execution_count": 133,
   "metadata": {},
   "outputs": [],
   "source": [
    "def process_row(row):\n",
    "    id = row['id']\n",
    "    if id not in processed_data:\n",
    "        prompt = row['prompt']\n",
    "        text_response, prompt_tokens, completion_tokens, total_tokens = get_chat_completion(prompt=prompt, model=\"gpt-4-0125-preview\")\n",
    "        processed_data[id] = {\n",
    "            'response': text_response,\n",
    "            'prompt_tokens': prompt_tokens,\n",
    "            'completion_tokens': completion_tokens,\n",
    "            'total_tokens': total_tokens,\n",
    "            'correct_answer': row['answerKey']\n",
    "        }\n",
    "        return True\n",
    "    return False"
   ]
  },
  {
   "cell_type": "code",
   "execution_count": 134,
   "metadata": {},
   "outputs": [
    {
     "name": "stderr",
     "output_type": "stream",
     "text": [
      "  0%|          | 0/500 [00:00<?, ?it/s]"
     ]
    },
    {
     "name": "stderr",
     "output_type": "stream",
     "text": [
      "100%|██████████| 500/500 [2:48:47<00:00, 20.26s/it]  \n"
     ]
    }
   ],
   "source": [
    "processed_status = arc_df.iloc[500:1000].progress_apply(lambda row: process_row(row), axis=1)"
   ]
  },
  {
   "cell_type": "code",
   "execution_count": 135,
   "metadata": {},
   "outputs": [
    {
     "data": {
      "text/plain": [
       "1000"
      ]
     },
     "execution_count": 135,
     "metadata": {},
     "output_type": "execute_result"
    }
   ],
   "source": [
    "len(processed_data)"
   ]
  },
  {
   "cell_type": "code",
   "execution_count": 136,
   "metadata": {},
   "outputs": [],
   "source": [
    "with open(PROCESSED_DATA_PATH, 'w') as file:\n",
    "\tjson.dump(processed_data, file)"
   ]
  },
  {
   "cell_type": "code",
   "execution_count": 137,
   "metadata": {},
   "outputs": [
    {
     "data": {
      "text/plain": [
       "500"
      ]
     },
     "execution_count": 137,
     "metadata": {},
     "output_type": "execute_result"
    }
   ],
   "source": [
    "len(processed_status[processed_status])"
   ]
  },
  {
   "cell_type": "code",
   "execution_count": null,
   "metadata": {},
   "outputs": [],
   "source": []
  }
 ],
 "metadata": {
  "kernelspec": {
   "display_name": "focus-llm",
   "language": "python",
   "name": "python3"
  },
  "language_info": {
   "codemirror_mode": {
    "name": "ipython",
    "version": 3
   },
   "file_extension": ".py",
   "mimetype": "text/x-python",
   "name": "python",
   "nbconvert_exporter": "python",
   "pygments_lexer": "ipython3",
   "version": "3.12.2"
  }
 },
 "nbformat": 4,
 "nbformat_minor": 2
}
