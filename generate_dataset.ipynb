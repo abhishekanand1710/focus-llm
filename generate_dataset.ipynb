{
 "cells": [
  {
   "cell_type": "code",
   "execution_count": 1,
   "metadata": {},
   "outputs": [
    {
     "name": "stderr",
     "output_type": "stream",
     "text": [
      "/Users/abhishekanand/miniforge3/envs/focus-llm/lib/python3.12/site-packages/tqdm/auto.py:21: TqdmWarning: IProgress not found. Please update jupyter and ipywidgets. See https://ipywidgets.readthedocs.io/en/stable/user_install.html\n",
      "  from .autonotebook import tqdm as notebook_tqdm\n"
     ]
    }
   ],
   "source": [
    "from datasets import load_dataset\n",
    "import json\n",
    "\n",
    "from openai_service import get_chat_completion\n",
    "from prompts import *"
   ]
  },
  {
   "cell_type": "code",
   "execution_count": 2,
   "metadata": {},
   "outputs": [
    {
     "data": {
      "text/html": [
       "<div>\n",
       "<style scoped>\n",
       "    .dataframe tbody tr th:only-of-type {\n",
       "        vertical-align: middle;\n",
       "    }\n",
       "\n",
       "    .dataframe tbody tr th {\n",
       "        vertical-align: top;\n",
       "    }\n",
       "\n",
       "    .dataframe thead th {\n",
       "        text-align: right;\n",
       "    }\n",
       "</style>\n",
       "<table border=\"1\" class=\"dataframe\">\n",
       "  <thead>\n",
       "    <tr style=\"text-align: right;\">\n",
       "      <th></th>\n",
       "      <th>id</th>\n",
       "      <th>question</th>\n",
       "      <th>choices</th>\n",
       "      <th>answerKey</th>\n",
       "    </tr>\n",
       "  </thead>\n",
       "  <tbody>\n",
       "    <tr>\n",
       "      <th>0</th>\n",
       "      <td>Mercury_SC_415702</td>\n",
       "      <td>George wants to warm his hands quickly by rubb...</td>\n",
       "      <td>{'text': ['dry palms', 'wet palms', 'palms cov...</td>\n",
       "      <td>A</td>\n",
       "    </tr>\n",
       "    <tr>\n",
       "      <th>1</th>\n",
       "      <td>MCAS_2009_5_6516</td>\n",
       "      <td>Which of the following statements best explain...</td>\n",
       "      <td>{'text': ['The refrigerator door is smooth.', ...</td>\n",
       "      <td>B</td>\n",
       "    </tr>\n",
       "    <tr>\n",
       "      <th>2</th>\n",
       "      <td>Mercury_7233695</td>\n",
       "      <td>A fold observed in layers of sedimentary rock ...</td>\n",
       "      <td>{'text': ['cooling of flowing magma.', 'conver...</td>\n",
       "      <td>B</td>\n",
       "    </tr>\n",
       "    <tr>\n",
       "      <th>3</th>\n",
       "      <td>Mercury_7041615</td>\n",
       "      <td>Which of these do scientists offer as the most...</td>\n",
       "      <td>{'text': ['worldwide disease', 'global mountai...</td>\n",
       "      <td>D</td>\n",
       "    </tr>\n",
       "    <tr>\n",
       "      <th>4</th>\n",
       "      <td>Mercury_7041860</td>\n",
       "      <td>A boat is acted on by a river current flowing ...</td>\n",
       "      <td>{'text': ['west', 'east', 'north', 'south'], '...</td>\n",
       "      <td>B</td>\n",
       "    </tr>\n",
       "  </tbody>\n",
       "</table>\n",
       "</div>"
      ],
      "text/plain": [
       "                  id                                           question  \\\n",
       "0  Mercury_SC_415702  George wants to warm his hands quickly by rubb...   \n",
       "1   MCAS_2009_5_6516  Which of the following statements best explain...   \n",
       "2    Mercury_7233695  A fold observed in layers of sedimentary rock ...   \n",
       "3    Mercury_7041615  Which of these do scientists offer as the most...   \n",
       "4    Mercury_7041860  A boat is acted on by a river current flowing ...   \n",
       "\n",
       "                                             choices answerKey  \n",
       "0  {'text': ['dry palms', 'wet palms', 'palms cov...         A  \n",
       "1  {'text': ['The refrigerator door is smooth.', ...         B  \n",
       "2  {'text': ['cooling of flowing magma.', 'conver...         B  \n",
       "3  {'text': ['worldwide disease', 'global mountai...         D  \n",
       "4  {'text': ['west', 'east', 'north', 'south'], '...         B  "
      ]
     },
     "execution_count": 2,
     "metadata": {},
     "output_type": "execute_result"
    }
   ],
   "source": [
    "dataset = load_dataset(\"allenai/ai2_arc\", \"ARC-Challenge\")\n",
    "df = dataset['train'].to_pandas()\n",
    "\n",
    "df.head()"
   ]
  },
  {
   "cell_type": "code",
   "execution_count": 3,
   "metadata": {},
   "outputs": [],
   "source": [
    "def build_prompt_for_sample(id, df):\n",
    "    question = df.iloc[id].question\n",
    "    choices = df.iloc[id].choices\n",
    "    options = str(choices['text'].tolist())\n",
    "    return concept_guided_reasoning_prompt.replace(\"{question}\", question).replace(\"{options}\", options)"
   ]
  },
  {
   "cell_type": "code",
   "execution_count": 4,
   "metadata": {},
   "outputs": [
    {
     "name": "stdout",
     "output_type": "stream",
     "text": [
      "('{\\n  \"concepts\": [\\n    {\\n      \"name\": \"skin surface\",\\n      \"description\": \"outer layer of the skin on the palms\"\\n    },\\n    {\\n      \"name\": \"dry palms\",\\n      \"description\": \"palms without moisture or any substances on them\"\\n    },\\n    {\\n      \"name\": \"wet palms\",\\n      \"description\": \"palms covered with water\"\\n    },\\n    {\\n      \"name\": \"palms covered with oil\",\\n      \"description\": \"palms coated with oil\"\\n    },\\n    {\\n      \"name\": \"palms covered with lotion\",\\n      \"description\": \"palms coated with lotion\"\\n    },\\n    {\\n      \"name\": \"heat production\",\\n      \"description\": \"generation of warmth on the skin by rubbing hands\"\\n    }\\n  ],\\n  \"relationships\": [\\n    {\\n      \"concept\": \"skin surface\",\\n      \"relationship\": \"can be influenced by\",\\n      \"related_concept\": \"dry palms\",\\n      \"description\": \"Dry palms are a state of the skin surface.\"\\n    },\\n    {\\n      \"concept\": \"skin surface\",\\n      \"relationship\": \"can be influenced by\",\\n      \"related_concept\": \"wet palms\",\\n      \"description\": \"Wet palms alter the properties of the skin surface.\"\\n    },\\n    {\\n      \"concept\": \"skin surface\",\\n      \"relationship\": \"can be influenced by\",\\n      \"related_concept\": \"palms covered with oil\",\\n      \"description\": \"Oil on the palms affects the skin surface.\"\\n    },\\n    {\\n      \"concept\": \"skin surface\",\\n      \"relationship\": \"can be influenced by\",\\n      \"related_concept\": \"palms covered with lotion\",\\n      \"description\": \"Lotion on the palms influences the skin surface.\"\\n    },\\n    {\\n      \"concept\": \"heat production\",\\n      \"relationship\": \"occurs on\",\\n      \"related_concept\": \"skin surface\",\\n      \"description\": \"The skin surface is where heat is produced by rubbing.\"\\n    }\\n  ]\\n}', 368, 415, 783)\n"
     ]
    }
   ],
   "source": [
    "print(get_chat_completion(build_prompt_for_sample(0, df)))"
   ]
  },
  {
   "cell_type": "code",
   "execution_count": 6,
   "metadata": {},
   "outputs": [
    {
     "name": "stdout",
     "output_type": "stream",
     "text": [
      "Question: - George wants to warm his hands quickly by rubbing them. Which skin surface will produce the most heat?\n",
      "Options: - ['dry palms', 'wet palms', 'palms covered with oil', 'palms covered with lotion']\n",
      "\n",
      "All the main real world concepts essential to answer the question are: \n",
      "List them down along with one line description\n",
      "Remember to return the response in a json structure as defined below - \n",
      "\n",
      "\"concepts\": [\n",
      "  {\n",
      "    \"name\": \"concept/entity name\",\n",
      "    \"description\": \"one line description\"\n",
      "  },\n",
      "  {\n",
      "    \"name\": \"conecpt/entity name\",\n",
      "    \"description\": \"one line description\"\n",
      "  },\n",
      "  ...\n",
      "]\n",
      "\n",
      "[your concepts list]\n",
      "\n",
      "In manner of ontology, describe the relationship for each concept to the other concepts in the context of the sentence in a structured manner along with one line description for each are:\n",
      "Remember to return the response in a json structure as defined below -\n",
      "\n",
      "\"relationships\": [\n",
      "\t{\n",
      "\t\t\"concept\": \"concept1\",\n",
      "\t\t\"relationship\": \"relation\",\n",
      "\t\t\"related_concept\": \"concept2\",\n",
      "\t\t\"description\": \"one line description\"\n",
      "\t},\n",
      "\t{\n",
      "\t\t\"concept\": \"concept2\",\n",
      "\t\t\"relationship\": \"relation\",\n",
      "\t\t\"related_concept\": \"concept3\",\n",
      "\t\t\"description\": \"one line description\"\n",
      "\t},\n",
      "\t....\n",
      "]\n",
      " \n",
      "[your relationship list]\n",
      "\n",
      "Provide the answer to the original [Question] from the [Options] and the reasoning for it based on the concepts/entities and their relationships you have identified - \n",
      "Remember to follow the following json structure - \n",
      "{\n",
      "  \"answer\": \"your answer\",\n",
      "  \"reasoning\": \"your reasoning\"\n",
      "}\n",
      "[your answer]\n",
      "\n"
     ]
    }
   ],
   "source": [
    "print(build_prompt_for_sample(0, df))"
   ]
  },
  {
   "cell_type": "code",
   "execution_count": null,
   "metadata": {},
   "outputs": [],
   "source": []
  }
 ],
 "metadata": {
  "kernelspec": {
   "display_name": "focus-llm",
   "language": "python",
   "name": "python3"
  },
  "language_info": {
   "codemirror_mode": {
    "name": "ipython",
    "version": 3
   },
   "file_extension": ".py",
   "mimetype": "text/x-python",
   "name": "python",
   "nbconvert_exporter": "python",
   "pygments_lexer": "ipython3",
   "version": "3.12.2"
  }
 },
 "nbformat": 4,
 "nbformat_minor": 2
}
