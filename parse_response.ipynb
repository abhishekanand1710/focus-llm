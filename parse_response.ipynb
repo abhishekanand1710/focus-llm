{
 "cells": [
  {
   "cell_type": "code",
   "execution_count": 33,
   "metadata": {},
   "outputs": [],
   "source": [
    "import json\n",
    "import re"
   ]
  },
  {
   "cell_type": "code",
   "execution_count": 34,
   "metadata": {},
   "outputs": [],
   "source": [
    "with open('datasets/winogrande_train_gpt4_response.json', 'r') as f:\n",
    "    data = json.loads(f.read())"
   ]
  },
  {
   "cell_type": "code",
   "execution_count": 35,
   "metadata": {},
   "outputs": [
    {
     "data": {
      "text/plain": [
       "1000"
      ]
     },
     "execution_count": 35,
     "metadata": {},
     "output_type": "execute_result"
    }
   ],
   "source": [
    "len(data)"
   ]
  },
  {
   "cell_type": "code",
   "execution_count": 36,
   "metadata": {},
   "outputs": [
    {
     "name": "stdout",
     "output_type": "stream",
     "text": [
      "```json\n",
      "{\n",
      "  \"concepts\": [\n",
      "    {\n",
      "      \"name\": \"John\",\n",
      "      \"description\": \"A person who performs the action of moving the couch.\"\n",
      "    },\n",
      "    {\n",
      "      \"name\": \"couch\",\n",
      "      \"description\": \"A large piece of furniture for seating, subject of the moving action.\"\n",
      "    },\n",
      "    {\n",
      "      \"name\": \"garage\",\n",
      "      \"description\": \"A place for storing vehicles, initially storing the couch.\"\n",
      "    },\n",
      "    {\n",
      "      \"name\": \"backyard\",\n",
      "      \"description\": \"An outdoor area behind a house, destination of the moved couch.\"\n",
      "    },\n",
      "    {\n",
      "      \"name\": \"space creation\",\n",
      "      \"description\": \"The objective of moving the couch from the garage.\"\n",
      "    }\n",
      "  ]\n",
      "}\n",
      "```\n",
      "\n",
      "```json\n",
      "{\n",
      "  \"relationships\": [\n",
      "    {\n",
      "      \"concept\": \"John\",\n",
      "      \"relationship\": \"moves\",\n",
      "      \"related_concept\": \"couch\",\n",
      "      \"description\": \"John is the agent who moves the couch.\"\n",
      "    },\n",
      "    {\n",
      "      \"concept\": \"couch\",\n",
      "      \"relationship\": \"moved from\",\n",
      "      \"related_concept\": \"garage\",\n",
      "      \"description\": \"The couch is moved from the garage.\"\n",
      "    },\n",
      "    {\n",
      "      \"concept\": \"couch\",\n",
      "      \"relationship\": \"moved to\",\n",
      "      \"related_concept\": \"backyard\",\n",
      "      \"description\": \"The destination of the couch is the backyard.\"\n",
      "    },\n",
      "    {\n",
      "      \"concept\": \"garage\",\n",
      "      \"relationship\": \"initial location\",\n",
      "      \"related_concept\": \"couch\",\n",
      "      \"description\": \"The garage is the initial location of the couch.\"\n",
      "    },\n",
      "    {\n",
      "      \"concept\": \"backyard\",\n",
      "      \"relationship\": \"final location\",\n",
      "      \"related_concept\": \"couch\",\n",
      "      \"description\": \"The couch is moved to the backyard to create space.\"\n",
      "    },\n",
      "    {\n",
      "      \"concept\": \"space creation\",\n",
      "      \"relationship\": \"reason for movement\",\n",
      "      \"related_concept\": \"couch\",\n",
      "      \"description\": \"The moving of the couch is to create more space.\"\n",
      "    }\n",
      "  ]\n",
      "}\n",
      "```\n",
      "\n",
      "```json\n",
      "{\n",
      "  \"answer\": \"garage\",\n",
      "  \"reasoning\": \"John moved the couch from the garage to the backyard to create space, which implies that the intention was to free up space in the garage, making 'garage' the correct answer as it being small necessitated creating space by moving out items such as the couch.\"\n",
      "}\n",
      "```\n"
     ]
    }
   ],
   "source": [
    "print(data['GO3wkLp9TC']['response'])"
   ]
  },
  {
   "cell_type": "code",
   "execution_count": 37,
   "metadata": {},
   "outputs": [],
   "source": [
    "# Function to extract all markdown json tags content from response\n",
    "def extract_json_content(response):\n",
    "    # Pattern to match json content within markdown code blocks\n",
    "    pattern = r'```json\\n(.*?)\\n```'\n",
    "    # Using re.DOTALL to make '.' match any character including newline\n",
    "    matches = re.findall(pattern, response, re.DOTALL)\n",
    "    return matches"
   ]
  },
  {
   "cell_type": "code",
   "execution_count": 38,
   "metadata": {},
   "outputs": [
    {
     "name": "stdout",
     "output_type": "stream",
     "text": [
      "{\n",
      "  \"concepts\": [\n",
      "    {\n",
      "      \"name\": \"ceremony\",\n",
      "      \"description\": \"A formal event held on special occasions\"\n",
      "    },\n",
      "    {\n",
      "      \"name\": \"guests\",\n",
      "      \"description\": \"People who are invited to attend an event or ceremony\"\n",
      "    },\n",
      "    {\n",
      "      \"name\": \"participants\",\n",
      "      \"description\": \"Individuals who are actively taking part in an event or ceremony\"\n",
      "    },\n",
      "    {\n",
      "      \"name\": \"frustration\",\n",
      "      \"description\": \"A feeling of being upset or annoyed as a result of being unable to change or achieve something\"\n",
      "    },\n",
      "    {\n",
      "      \"name\": \"impatience\",\n",
      "      \"description\": \"The tendency to be quickly irritated or provoked by delays\"\n",
      "    }\n",
      "  ]\n",
      "}\n",
      "{\n",
      "  \"relationships\": [\n",
      "    {\n",
      "      \"concept\": \"ceremony\",\n",
      "      \"relationship\": \"has_duration\",\n",
      "      \"related_concept\": \"time\",\n",
      "      \"description\": \"The ceremony is an event that occurs over a period of time\"\n",
      "    },\n",
      "    {\n",
      "      \"concept\": \"guests\",\n",
      "      \"relationship\": \"experience\",\n",
      "      \"related_concept\": \"frustration\",\n",
      "      \"description\": \"The guests are experiencing frustration due to the long duration of the ceremony\"\n",
      "    },\n",
      "    {\n",
      "      \"concept\": \"participants\",\n",
      "      \"relationship\": \"cause_of\",\n",
      "      \"related_concept\": \"ceremony duration\",\n",
      "      \"description\": \"The actions or involvement of participants in the ceremony contribute to its length\"\n",
      "    },\n",
      "    {\n",
      "      \"concept\": \"frustration\",\n",
      "      \"relationship\": \"caused_by\",\n",
      "      \"related_concept\": \"impatience\",\n",
      "      \"description\": \"Feeling frustrated can be a result of being impatient\"\n",
      "    },\n",
      "    {\n",
      "      \"concept\": \"guests\",\n",
      "      \"relationship\": \"known_to_be\",\n",
      "      \"related_concept\": \"impatience\",\n",
      "      \"description\": \"The guests are characterized by or are known to have impatience\"\n",
      "    }\n",
      "  ]\n",
      "}\n",
      "{\n",
      "  \"answer\": \"guests\",\n",
      "  \"reasoning\": \"According to the identifying relationships and concepts, it is clear that the 'guests' are the ones who are known to be impatient, as indicated by their experience of frustration due to the ceremony's length. The description explicitly states that the frustration stems from a duration that likely exceeded the guests' threshold for patience, thus directly linking their impatience to the context of the provided sentence.\"\n",
      "}\n"
     ]
    }
   ],
   "source": [
    "# Example usage\n",
    "response = data['QeH6rv6ZLY']['response']\n",
    "json_contents = extract_json_content(response)\n",
    "for json_content in json_contents:\n",
    "    print(json_content)"
   ]
  },
  {
   "cell_type": "code",
   "execution_count": 39,
   "metadata": {},
   "outputs": [],
   "source": [
    "concept_missing_count = 0\n",
    "rel_missing_count = 0\n",
    "final_answer_missing_count = 0\n",
    "missing_final_answer_keys = []\n",
    "for key, val in data.items():\n",
    "    response = val['response']\n",
    "    json_contents = extract_json_content(response)\n",
    "    parsed_response = {}\n",
    "    for content in json_contents:\n",
    "        try:\n",
    "            json_object = json.loads(content)\n",
    "        except Exception as e:\n",
    "            print(key)\n",
    "            continue\n",
    "        if 'concepts' in json_object:\n",
    "            parsed_response['concepts'] = json_object['concepts']\n",
    "        if 'relationships' in json_object:\n",
    "            parsed_response['relationships'] = json_object['relationships']\n",
    "        if 'answer' in json_object:\n",
    "            if 'reasoning' in json_object:\n",
    "                parsed_response['final_answer'] = json_object\n",
    "            else:\n",
    "                parsed_response['final_answer'] = json_object['answer']\n",
    "    if 'concepts' not in parsed_response:\n",
    "        concept_missing_count += 1\n",
    "    if 'relationships' not in parsed_response:\n",
    "        rel_missing_count += 1\n",
    "    if 'final_answer' not in parsed_response:\n",
    "        final_answer_missing_count += 1\n",
    "        missing_final_answer_keys.append(key)\n",
    "    data[key]['parsed_response'] = parsed_response"
   ]
  },
  {
   "cell_type": "code",
   "execution_count": 40,
   "metadata": {},
   "outputs": [
    {
     "data": {
      "text/plain": [
       "(0, 0, 0)"
      ]
     },
     "execution_count": 40,
     "metadata": {},
     "output_type": "execute_result"
    }
   ],
   "source": [
    "final_answer_missing_count, concept_missing_count, rel_missing_count"
   ]
  },
  {
   "cell_type": "code",
   "execution_count": 41,
   "metadata": {},
   "outputs": [
    {
     "data": {
      "text/plain": [
       "[]"
      ]
     },
     "execution_count": 41,
     "metadata": {},
     "output_type": "execute_result"
    }
   ],
   "source": [
    "missing_final_answer_keys"
   ]
  },
  {
   "cell_type": "code",
   "execution_count": 42,
   "metadata": {},
   "outputs": [],
   "source": [
    "PARSED_DATASET_PATH = 'datasets/winogrande_train_gpt4_response_parsed.json'"
   ]
  },
  {
   "cell_type": "code",
   "execution_count": 43,
   "metadata": {},
   "outputs": [],
   "source": [
    "with open(PARSED_DATASET_PATH, 'w') as file:\n",
    "\tjson.dump(data, file)"
   ]
  },
  {
   "cell_type": "code",
   "execution_count": null,
   "metadata": {},
   "outputs": [],
   "source": []
  }
 ],
 "metadata": {
  "kernelspec": {
   "display_name": "focus-llm",
   "language": "python",
   "name": "python3"
  },
  "language_info": {
   "codemirror_mode": {
    "name": "ipython",
    "version": 3
   },
   "file_extension": ".py",
   "mimetype": "text/x-python",
   "name": "python",
   "nbconvert_exporter": "python",
   "pygments_lexer": "ipython3",
   "version": "3.12.2"
  }
 },
 "nbformat": 4,
 "nbformat_minor": 2
}
