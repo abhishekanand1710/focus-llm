{
 "cells": [
  {
   "cell_type": "code",
   "execution_count": 84,
   "metadata": {},
   "outputs": [],
   "source": [
    "import json\n",
    "import re"
   ]
  },
  {
   "cell_type": "code",
   "execution_count": 85,
   "metadata": {},
   "outputs": [],
   "source": [
    "with open('datasets/arc_challenge_train_gpt4_response.json', 'r') as f:\n",
    "    data = json.loads(f.read())"
   ]
  },
  {
   "cell_type": "code",
   "execution_count": 86,
   "metadata": {},
   "outputs": [
    {
     "data": {
      "text/plain": [
       "1000"
      ]
     },
     "execution_count": 86,
     "metadata": {},
     "output_type": "execute_result"
    }
   ],
   "source": [
    "len(data)"
   ]
  },
  {
   "cell_type": "code",
   "execution_count": 87,
   "metadata": {},
   "outputs": [
    {
     "name": "stdout",
     "output_type": "stream",
     "text": [
      "```json\n",
      "{\n",
      "  \"concepts\": [\n",
      "    {\n",
      "      \"name\": \"Carbon Cycle\",\n",
      "      \"description\": \"The series of processes by which carbon compounds are interconverted in the environment.\"\n",
      "    },\n",
      "    {\n",
      "      \"name\": \"Atmosphere\",\n",
      "      \"description\": \"The layer of gases surrounding Earth.\"\n",
      "    },\n",
      "    {\n",
      "      \"name\": \"Formation of Fossil Fuels\",\n",
      "      \"description\": \"The process by which decomposed organic material is converted under pressure and heat into coal, oil, and natural gas over millions of years.\"\n",
      "    },\n",
      "    {\n",
      "      \"name\": \"Layering of Soil\",\n",
      "      \"description\": \"The formation of distinct layers within the soil, each with its own characteristics.\"\n",
      "    },\n",
      "    {\n",
      "      \"name\": \"Plant Photosynthesis\",\n",
      "      \"description\": \"The process by which green plants and some other organisms use sunlight to synthesize foods from carbon dioxide and water.\"\n",
      "    },\n",
      "    {\n",
      "      \"name\": \"Forest Fires\",\n",
      "      \"description\": \"Uncontrolled fire occurring in nature.\"\n",
      "    }\n",
      "  ],\n",
      "  \"relationships\": [\n",
      "    {\n",
      "      \"concept\": \"Carbon Cycle\",\n",
      "      \"relationship\": \"involves\",\n",
      "      \"related_concept\": \"Atmosphere\",\n",
      "      \"description\": \"The carbon cycle involves the exchange of carbon between the atmosphere and Earth.\"\n",
      "    },\n",
      "    {\n",
      "      \"concept\": \"Carbon Cycle\",\n",
      "      \"relationship\": \"includes\",\n",
      "      \"related_concept\": \"Formation of Fossil Fuels\",\n",
      "      \"description\": \"Formation of fossil fuels is a long-term carbon storage process in the carbon cycle.\"\n",
      "    },\n",
      "    {\n",
      "      \"concept\": \"Carbon Cycle\",\n",
      "      \"relationship\": \"includes\",\n",
      "      \"related_concept\": \"Plant Photosynthesis\",\n",
      "      \"description\": \"Plant photosynthesis is a key process in the carbon cycle that removes CO2 from the atmosphere.\"\n",
      "    },\n",
      "    {\n",
      "      \"concept\": \"Carbon Cycle\",\n",
      "      \"relationship\": \"affected_by\",\n",
      "      \"related_concept\": \"Forest Fires\",\n",
      "      \"description\": \"Forest fires can release significant amounts of carbon dioxide back into the atmosphere.\"\n",
      "    },\n",
      "    {\n",
      "      \"concept\": \"Atmosphere\",\n",
      "      \"relationship\": \"receives_carbon_from\",\n",
      "      \"related_concept\": \"Plant Photosynthesis\",\n",
      "      \"description\": \"Through plant respiration and decay, and the burning of fossil fuels, carbon is released back into the atmosphere.\"\n",
      "    },\n",
      "    {\n",
      "      \"concept\": \"Atmosphere\",\n",
      "      \"relationship\": \"receives_carbon_from\",\n",
      "      \"related_concept\": \"Forest Fires\",\n",
      "      \"description\": \"Forest fires contribute to atmospheric carbon by combusting biomass.\"\n",
      "    }\n",
      "  ]\n",
      "}\n",
      "```\n",
      "\n",
      "```json\n",
      "{\n",
      "  \"answer\": \"plant photosynthesis\",\n",
      "  \"reasoning\": \"While plant photosynthesis involves the absorption of carbon dioxide from the atmosphere to produce oxygen and glucose, it is actually through respiration, decomposition, and burning (including forest fires) that carbon is released back into the atmosphere. Therefore, the most direct answer related to making carbon available in the atmosphere from the given options, considering the entire lifecycle and context of carbon exchange, is misconstrued here as 'plant photosynthesis'. The appropriate answer considering the contribution to atmospheric carbon would be 'forest fires' among the given options because it directly releases carbon into the atmosphere. The confusion arises from the misinterpretation of photosynthesis' role; it primarily absorbs CO2 rather than releasing it. Therefore, based on the accurate understanding of carbon's release mechanisms into the atmosphere, 'forest fires' is the correct process that makes carbon available in the atmosphere from the options provided.\"\n",
      "}\n",
      "```\n"
     ]
    }
   ],
   "source": [
    "print(data['Mercury_7126683']['response'])"
   ]
  },
  {
   "cell_type": "code",
   "execution_count": 88,
   "metadata": {},
   "outputs": [],
   "source": [
    "# Function to extract all markdown json tags content from response\n",
    "def extract_json_content(response):\n",
    "    # Pattern to match json content within markdown code blocks\n",
    "    pattern = r'```json\\n(.*?)\\n```'\n",
    "    # Using re.DOTALL to make '.' match any character including newline\n",
    "    matches = re.findall(pattern, response, re.DOTALL)\n",
    "    return matches"
   ]
  },
  {
   "cell_type": "code",
   "execution_count": 89,
   "metadata": {},
   "outputs": [
    {
     "name": "stdout",
     "output_type": "stream",
     "text": [
      "{\n",
      "  \"concepts\": [\n",
      "    {\n",
      "      \"name\": \"Carbon Cycle\",\n",
      "      \"description\": \"The series of processes by which carbon compounds are interconverted in the environment.\"\n",
      "    },\n",
      "    {\n",
      "      \"name\": \"Atmosphere\",\n",
      "      \"description\": \"The layer of gases surrounding Earth.\"\n",
      "    },\n",
      "    {\n",
      "      \"name\": \"Formation of Fossil Fuels\",\n",
      "      \"description\": \"The process by which decomposed organic material is converted under pressure and heat into coal, oil, and natural gas over millions of years.\"\n",
      "    },\n",
      "    {\n",
      "      \"name\": \"Layering of Soil\",\n",
      "      \"description\": \"The formation of distinct layers within the soil, each with its own characteristics.\"\n",
      "    },\n",
      "    {\n",
      "      \"name\": \"Plant Photosynthesis\",\n",
      "      \"description\": \"The process by which green plants and some other organisms use sunlight to synthesize foods from carbon dioxide and water.\"\n",
      "    },\n",
      "    {\n",
      "      \"name\": \"Forest Fires\",\n",
      "      \"description\": \"Uncontrolled fire occurring in nature.\"\n",
      "    }\n",
      "  ],\n",
      "  \"relationships\": [\n",
      "    {\n",
      "      \"concept\": \"Carbon Cycle\",\n",
      "      \"relationship\": \"involves\",\n",
      "      \"related_concept\": \"Atmosphere\",\n",
      "      \"description\": \"The carbon cycle involves the exchange of carbon between the atmosphere and Earth.\"\n",
      "    },\n",
      "    {\n",
      "      \"concept\": \"Carbon Cycle\",\n",
      "      \"relationship\": \"includes\",\n",
      "      \"related_concept\": \"Formation of Fossil Fuels\",\n",
      "      \"description\": \"Formation of fossil fuels is a long-term carbon storage process in the carbon cycle.\"\n",
      "    },\n",
      "    {\n",
      "      \"concept\": \"Carbon Cycle\",\n",
      "      \"relationship\": \"includes\",\n",
      "      \"related_concept\": \"Plant Photosynthesis\",\n",
      "      \"description\": \"Plant photosynthesis is a key process in the carbon cycle that removes CO2 from the atmosphere.\"\n",
      "    },\n",
      "    {\n",
      "      \"concept\": \"Carbon Cycle\",\n",
      "      \"relationship\": \"affected_by\",\n",
      "      \"related_concept\": \"Forest Fires\",\n",
      "      \"description\": \"Forest fires can release significant amounts of carbon dioxide back into the atmosphere.\"\n",
      "    },\n",
      "    {\n",
      "      \"concept\": \"Atmosphere\",\n",
      "      \"relationship\": \"receives_carbon_from\",\n",
      "      \"related_concept\": \"Plant Photosynthesis\",\n",
      "      \"description\": \"Through plant respiration and decay, and the burning of fossil fuels, carbon is released back into the atmosphere.\"\n",
      "    },\n",
      "    {\n",
      "      \"concept\": \"Atmosphere\",\n",
      "      \"relationship\": \"receives_carbon_from\",\n",
      "      \"related_concept\": \"Forest Fires\",\n",
      "      \"description\": \"Forest fires contribute to atmospheric carbon by combusting biomass.\"\n",
      "    }\n",
      "  ]\n",
      "}\n",
      "{\n",
      "  \"answer\": \"plant photosynthesis\",\n",
      "  \"reasoning\": \"While plant photosynthesis involves the absorption of carbon dioxide from the atmosphere to produce oxygen and glucose, it is actually through respiration, decomposition, and burning (including forest fires) that carbon is released back into the atmosphere. Therefore, the most direct answer related to making carbon available in the atmosphere from the given options, considering the entire lifecycle and context of carbon exchange, is misconstrued here as 'plant photosynthesis'. The appropriate answer considering the contribution to atmospheric carbon would be 'forest fires' among the given options because it directly releases carbon into the atmosphere. The confusion arises from the misinterpretation of photosynthesis' role; it primarily absorbs CO2 rather than releasing it. Therefore, based on the accurate understanding of carbon's release mechanisms into the atmosphere, 'forest fires' is the correct process that makes carbon available in the atmosphere from the options provided.\"\n",
      "}\n"
     ]
    }
   ],
   "source": [
    "# Example usage\n",
    "response = data['Mercury_7126683']['response']\n",
    "json_contents = extract_json_content(response)\n",
    "for json_content in json_contents:\n",
    "    print(json_content)"
   ]
  },
  {
   "cell_type": "code",
   "execution_count": 90,
   "metadata": {},
   "outputs": [],
   "source": [
    "concept_missing_count = 0\n",
    "rel_missing_count = 0\n",
    "final_answer_missing_count = 0\n",
    "missing_final_answer_keys = []\n",
    "for key, val in data.items():\n",
    "    response = val['response']\n",
    "    json_contents = extract_json_content(response)\n",
    "    parsed_response = {}\n",
    "    for content in json_contents:\n",
    "        try:\n",
    "            json_object = json.loads(content)\n",
    "        except Exception as e:\n",
    "            print(key)\n",
    "            continue\n",
    "        if 'concepts' in json_object:\n",
    "            parsed_response['concepts'] = json_object['concepts']\n",
    "        if 'relationships' in json_object:\n",
    "            parsed_response['relationships'] = json_object['relationships']\n",
    "        if 'answer' in json_object:\n",
    "            if 'reasoning' in json_object:\n",
    "                parsed_response['final_answer'] = json_object\n",
    "            else:\n",
    "                parsed_response['final_answer'] = json_object['answer']\n",
    "    if 'concepts' not in parsed_response:\n",
    "        concept_missing_count += 1\n",
    "    if 'relationships' not in parsed_response:\n",
    "        rel_missing_count += 1\n",
    "    if 'final_answer' not in parsed_response:\n",
    "        final_answer_missing_count += 1\n",
    "        missing_final_answer_keys.append(key)\n",
    "    data[key]['parsed_response'] = parsed_response"
   ]
  },
  {
   "cell_type": "code",
   "execution_count": 92,
   "metadata": {},
   "outputs": [
    {
     "data": {
      "text/plain": [
       "(0, 0, 0)"
      ]
     },
     "execution_count": 92,
     "metadata": {},
     "output_type": "execute_result"
    }
   ],
   "source": [
    "final_answer_missing_count, concept_missing_count, rel_missing_count"
   ]
  },
  {
   "cell_type": "code",
   "execution_count": 93,
   "metadata": {},
   "outputs": [
    {
     "data": {
      "text/plain": [
       "[]"
      ]
     },
     "execution_count": 93,
     "metadata": {},
     "output_type": "execute_result"
    }
   ],
   "source": [
    "missing_final_answer_keys"
   ]
  },
  {
   "cell_type": "code",
   "execution_count": 94,
   "metadata": {},
   "outputs": [],
   "source": [
    "ARC_PARSED_DATASET_PATH = 'datasets/arc_challenge_train_gpt4_response_parsed.json'"
   ]
  },
  {
   "cell_type": "code",
   "execution_count": 95,
   "metadata": {},
   "outputs": [],
   "source": [
    "with open(ARC_PARSED_DATASET_PATH, 'w') as file:\n",
    "\tjson.dump(data, file)"
   ]
  },
  {
   "cell_type": "code",
   "execution_count": null,
   "metadata": {},
   "outputs": [],
   "source": []
  }
 ],
 "metadata": {
  "kernelspec": {
   "display_name": "focus-llm",
   "language": "python",
   "name": "python3"
  },
  "language_info": {
   "codemirror_mode": {
    "name": "ipython",
    "version": 3
   },
   "file_extension": ".py",
   "mimetype": "text/x-python",
   "name": "python",
   "nbconvert_exporter": "python",
   "pygments_lexer": "ipython3",
   "version": "3.12.2"
  }
 },
 "nbformat": 4,
 "nbformat_minor": 2
}
